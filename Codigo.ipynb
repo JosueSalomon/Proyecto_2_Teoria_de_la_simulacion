{
 "cells": [
  {
   "cell_type": "markdown",
   "id": "8ab7403e",
   "metadata": {},
   "source": [
    "##### Proyecto 1 teoria de la simulacion\n",
    "Josue Salomon Landa 20211001600 :3\n",
    "\n",
    "![Hornet](https://images.steamusercontent.com/ugc/1709665624025799474/1D03582C0386590AE8EB073E534CAF0A7A267250/?imw=128&imh=128&ima=fit&impolicy=Letterbox&imcolor=%23000000&letterbox=true)"
   ]
  },
  {
   "cell_type": "code",
   "execution_count": null,
   "id": "6dc1ddb1",
   "metadata": {
    "vscode": {
     "languageId": "plaintext"
    }
   },
   "outputs": [],
   "source": [
    "echo \"# Proyecto_2_Teoria_de_la_simulacion\" >> README.md\n",
    "git init\n",
    "git add .\n",
    "git commit -m \"Creacion de repositorio\"\n",
    "git branch -M main\n",
    "git remote add origin https://github.com/JosueSalomon/Proyecto_2_Teoria_de_la_simulacion.git\n",
    "git push -u origin main"
   ]
  }
 ],
 "metadata": {
  "language_info": {
   "name": "python"
  }
 },
 "nbformat": 4,
 "nbformat_minor": 5
}
